{
  "nbformat": 4,
  "nbformat_minor": 0,
  "metadata": {
    "colab": {
      "name": "subtitle_generate_color.ipynb",
      "provenance": [],
      "collapsed_sections": [],
      "authorship_tag": "ABX9TyMyd02zC+buvOgVz+Ej5EUD",
      "include_colab_link": true
    },
    "kernelspec": {
      "name": "python3",
      "display_name": "Python 3"
    },
    "language_info": {
      "name": "python"
    }
  },
  "cells": [
    {
      "cell_type": "markdown",
      "metadata": {
        "id": "view-in-github",
        "colab_type": "text"
      },
      "source": [
        "<a href=\"https://colab.research.google.com/github/profteachkids/subtitle_generator/blob/main/subtitle_generate_color.ipynb\" target=\"_parent\"><img src=\"https://colab.research.google.com/assets/colab-badge.svg\" alt=\"Open In Colab\"/></a>"
      ]
    },
    {
      "cell_type": "code",
      "metadata": {
        "colab": {
          "base_uri": "https://localhost:8080/"
        },
        "id": "LvHAFPEPCkjP",
        "outputId": "2774c8b9-2914-43cb-f14f-25ae524504df"
      },
      "source": [
        "!wget https://github.com/profteachkids/subtitle_generator/raw/main/Dosis-Bold.ttf"
      ],
      "execution_count": 1,
      "outputs": [
        {
          "output_type": "stream",
          "name": "stdout",
          "text": [
            "--2021-09-06 13:06:56--  https://github.com/profteachkids/subtitle_generator/raw/main/Dosis-Bold.ttf\n",
            "Resolving github.com (github.com)... 140.82.112.3\n",
            "Connecting to github.com (github.com)|140.82.112.3|:443... connected.\n",
            "HTTP request sent, awaiting response... 302 Found\n",
            "Location: https://raw.githubusercontent.com/profteachkids/subtitle_generator/main/Dosis-Bold.ttf [following]\n",
            "--2021-09-06 13:06:56--  https://raw.githubusercontent.com/profteachkids/subtitle_generator/main/Dosis-Bold.ttf\n",
            "Resolving raw.githubusercontent.com (raw.githubusercontent.com)... 185.199.108.133, 185.199.109.133, 185.199.110.133, ...\n",
            "Connecting to raw.githubusercontent.com (raw.githubusercontent.com)|185.199.108.133|:443... connected.\n",
            "HTTP request sent, awaiting response... 200 OK\n",
            "Length: 92920 (91K) [application/octet-stream]\n",
            "Saving to: ‘Dosis-Bold.ttf’\n",
            "\n",
            "Dosis-Bold.ttf      100%[===================>]  90.74K  --.-KB/s    in 0.009s  \n",
            "\n",
            "2021-09-06 13:06:57 (9.47 MB/s) - ‘Dosis-Bold.ttf’ saved [92920/92920]\n",
            "\n"
          ]
        }
      ]
    },
    {
      "cell_type": "code",
      "metadata": {
        "id": "84zXhvmAchrx"
      },
      "source": [
        "import os\n",
        "import numpy as np\n",
        "import re\n",
        "from PIL import Image, ImageDraw, ImageFont, ImageFilter, ImageOps\n",
        "import requests\n",
        "from io import BytesIO\n",
        "from google.colab import files\n",
        "\n",
        "colors={'w':(255, 255, 255, 255),\n",
        "    'k':(0, 0, 0, 255),   #black\n",
        "    'r':(255, 0, 0, 255),    #red\n",
        "    '1':(255, 0, 221, 255),  #pink\n",
        "    'b':(0,0,255,255), #blue\n",
        "    '2':(0,255,69,255),\n",
        "    '3':(128,0,128,255), #purple\n",
        "    'o':(255,165,0,255), #orange\n",
        "    'y':(255,255,0,255)} #yellow\n",
        "\n",
        "text=\"\"\"after i escaped the\n",
        "dark %okk%and dangerous\n",
        "tunnel %yk1%in the%3oy% last%wkk% part\"\"\" \n",
        "\n",
        "root='./subtitles/'\n",
        "if not os.path.exists(root):\n",
        "    os.makedirs(root)\n",
        "imw,imh=1920,250\n",
        "\n",
        "fnt = ImageFont.truetype(\"Dosis-Bold.ttf\", 115)"
      ],
      "execution_count": 53,
      "outputs": []
    },
    {
      "cell_type": "code",
      "metadata": {
        "id": "bUKzlkgsOGDc"
      },
      "source": [
        "text_lines=text.split('\\n')\n",
        "for i,text_line in enumerate(text_lines):\n",
        "    z = re.match(r\"%\\w{3}%\", text_line)\n",
        "    if not z:\n",
        "        text_lines[i]='%wkk%'+text_line\n",
        "    "
      ],
      "execution_count": 54,
      "outputs": []
    },
    {
      "cell_type": "code",
      "metadata": {
        "colab": {
          "base_uri": "https://localhost:8080/"
        },
        "id": "y-cm-cxaPWHb",
        "outputId": "a105a515-da64-4d32-9edc-ee8ad527f9ea"
      },
      "source": [
        "i=0\n",
        "w_start=0\n",
        "\n",
        "for text_line in text_lines:\n",
        "    z = re.split(r\"(%\\w{3}%)\", text_line)\n",
        "    color_strings = z[1::2]\n",
        "    text_strings = z[2::2]\n",
        "\n",
        "    full_text_line = ''.join(text_strings)\n",
        "    w_end = w_start + len(full_text_line.split())\n",
        "    name = root+f'a_{i:04d}_{w_start:04d}_{w_end:04d}.png'\n",
        "    i+=1\n",
        "    w_start = w_end\n",
        "\n",
        "    im = Image.new('RGBA', (imw,imh), (0,0,0,0))\n",
        "    d = ImageDraw.Draw(im)\n",
        "    imface = Image.new('RGBA', (imw,imh), (0,0,0,0))\n",
        "    d2 = ImageDraw.Draw(imface)\n",
        "\n",
        "\n",
        "\n",
        "\n",
        "    w,h=d.textsize(full_text_line,fnt)\n",
        "    x,y = (imw-w)//2, (imh-h)//2\n",
        "    print(name)\n",
        "    print(full_text_line)\n",
        "    prior_text=''\n",
        "    for color_string, text_string in zip(color_strings,text_strings):\n",
        "        font_c = color_string[1]\n",
        "        outline_c = color_string[2]\n",
        "        shadow_c = color_string[3]\n",
        "\n",
        "        print(font_c, outline_c, shadow_c, text_string)\n",
        "        print(d.textsize(prior_text,fnt))\n",
        "\n",
        "        d.text((x,y), text_string, font=fnt, fill=colors[shadow_c])\n",
        "        d2.text((x,y), text_string, font=fnt, fill=colors[font_c], stroke_width=7, stroke_fill=colors[outline_c])\n",
        "\n",
        "        prior_text+=text_string\n",
        "        x+=d.textsize(text_string,fnt)[0]\n",
        "\n",
        "    im = im.filter(ImageFilter.GaussianBlur(radius=30))\n",
        "    imnp_raw=np.asarray(im)\n",
        "    imnp=imnp_raw.copy()\n",
        "    imnp[:,:,3]=(imnp_raw[:,:,3]*(255.0/imnp_raw[:,:,3].max())).astype(np.uint8)\n",
        "    imfacenp = np.asarray(imface)\n",
        "    blank = np.zeros((imh,imw,4),dtype=np.uint8)\n",
        "    compnp=np.where((imnp[:,:,3]>0)[:,:,None], imnp, blank)\n",
        "    compnp=np.where((imfacenp[:,:,3]>200)[:,:,None], imfacenp, compnp)\n",
        "\n",
        "    Image.fromarray(compnp,'RGBA').save(name)\n",
        "\n",
        "\n",
        "    print()"
      ],
      "execution_count": 55,
      "outputs": [
        {
          "output_type": "stream",
          "name": "stdout",
          "text": [
            "./subtitles/a_0000_0000_0004.png\n",
            "after i escaped the\n",
            "w k k after i escaped the\n",
            "(0, 0)\n",
            "\n",
            "./subtitles/a_0001_0004_0007.png\n",
            "dark and dangerous\n",
            "w k k dark \n",
            "(0, 0)\n",
            "o k k and dangerous\n",
            "(237, 120)\n",
            "\n",
            "./subtitles/a_0002_0007_0012.png\n",
            "tunnel in the last part\n",
            "w k k tunnel \n",
            "(0, 0)\n",
            "y k 1 in the\n",
            "(327, 120)\n",
            "3 o y  last\n",
            "(592, 120)\n",
            "w k k  part\n",
            "(785, 120)\n",
            "\n"
          ]
        }
      ]
    },
    {
      "cell_type": "code",
      "metadata": {
        "colab": {
          "base_uri": "https://localhost:8080/",
          "height": 84
        },
        "id": "Kd3Nf9d8ctCz",
        "outputId": "a65a7e71-835d-4880-a7b3-649c5bffe908"
      },
      "source": [
        "%cd /content/subtitles\n",
        "!zip -r subtitles.zip *\n",
        "files.download('/content/subtitles/subtitles.zip')\n"
      ],
      "execution_count": 56,
      "outputs": [
        {
          "output_type": "stream",
          "name": "stdout",
          "text": [
            "/content/subtitles\n",
            "  adding: a_0000_0000_0004.png (deflated 5%)\n",
            "  adding: a_0001_0004_0007.png (deflated 3%)\n",
            "  adding: a_0002_0007_0012.png (deflated 2%)\n"
          ]
        },
        {
          "output_type": "display_data",
          "data": {
            "application/javascript": [
              "\n",
              "    async function download(id, filename, size) {\n",
              "      if (!google.colab.kernel.accessAllowed) {\n",
              "        return;\n",
              "      }\n",
              "      const div = document.createElement('div');\n",
              "      const label = document.createElement('label');\n",
              "      label.textContent = `Downloading \"${filename}\": `;\n",
              "      div.appendChild(label);\n",
              "      const progress = document.createElement('progress');\n",
              "      progress.max = size;\n",
              "      div.appendChild(progress);\n",
              "      document.body.appendChild(div);\n",
              "\n",
              "      const buffers = [];\n",
              "      let downloaded = 0;\n",
              "\n",
              "      const channel = await google.colab.kernel.comms.open(id);\n",
              "      // Send a message to notify the kernel that we're ready.\n",
              "      channel.send({})\n",
              "\n",
              "      for await (const message of channel.messages) {\n",
              "        // Send a message to notify the kernel that we're ready.\n",
              "        channel.send({})\n",
              "        if (message.buffers) {\n",
              "          for (const buffer of message.buffers) {\n",
              "            buffers.push(buffer);\n",
              "            downloaded += buffer.byteLength;\n",
              "            progress.value = downloaded;\n",
              "          }\n",
              "        }\n",
              "      }\n",
              "      const blob = new Blob(buffers, {type: 'application/binary'});\n",
              "      const a = document.createElement('a');\n",
              "      a.href = window.URL.createObjectURL(blob);\n",
              "      a.download = filename;\n",
              "      div.appendChild(a);\n",
              "      a.click();\n",
              "      div.remove();\n",
              "    }\n",
              "  "
            ],
            "text/plain": [
              "<IPython.core.display.Javascript object>"
            ]
          },
          "metadata": {}
        },
        {
          "output_type": "display_data",
          "data": {
            "application/javascript": [
              "download(\"download_44962594-ce92-47c0-8203-89e4d23f4aa9\", \"subtitles.zip\", 174047)"
            ],
            "text/plain": [
              "<IPython.core.display.Javascript object>"
            ]
          },
          "metadata": {}
        }
      ]
    },
    {
      "cell_type": "code",
      "metadata": {
        "id": "2iA4vSbFqycw"
      },
      "source": [
        ""
      ],
      "execution_count": null,
      "outputs": []
    }
  ]
}