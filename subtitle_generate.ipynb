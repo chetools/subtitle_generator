{
  "nbformat": 4,
  "nbformat_minor": 0,
  "metadata": {
    "colab": {
      "name": "subtitle_generate.ipynb",
      "provenance": [],
      "collapsed_sections": [],
      "authorship_tag": "ABX9TyMw1cCuoWkaFZiIEIGmueLB",
      "include_colab_link": true
    },
    "kernelspec": {
      "name": "python3",
      "display_name": "Python 3"
    },
    "language_info": {
      "name": "python"
    }
  },
  "cells": [
    {
      "cell_type": "markdown",
      "metadata": {
        "id": "view-in-github",
        "colab_type": "text"
      },
      "source": [
        "<a href=\"https://colab.research.google.com/github/profteachkids/subtitle_generator/blob/main/subtitle_generate.ipynb\" target=\"_parent\"><img src=\"https://colab.research.google.com/assets/colab-badge.svg\" alt=\"Open In Colab\"/></a>"
      ]
    },
    {
      "cell_type": "code",
      "metadata": {
        "colab": {
          "base_uri": "https://localhost:8080/"
        },
        "id": "LvHAFPEPCkjP",
        "outputId": "4f39c19d-a029-490d-db73-df9c8f04de4a"
      },
      "source": [
        "!wget https://github.com/profteachkids/subtitle_generator/raw/main/Dosis-Bold.ttf"
      ],
      "execution_count": 2,
      "outputs": [
        {
          "output_type": "stream",
          "name": "stdout",
          "text": [
            "--2021-09-06 12:17:25--  https://github.com/profteachkids/subtitle_generator/raw/main/Dosis-Bold.ttf\n",
            "Resolving github.com (github.com)... 140.82.121.4\n",
            "Connecting to github.com (github.com)|140.82.121.4|:443... connected.\n",
            "HTTP request sent, awaiting response... 302 Found\n",
            "Location: https://raw.githubusercontent.com/profteachkids/subtitle_generator/main/Dosis-Bold.ttf [following]\n",
            "--2021-09-06 12:17:25--  https://raw.githubusercontent.com/profteachkids/subtitle_generator/main/Dosis-Bold.ttf\n",
            "Resolving raw.githubusercontent.com (raw.githubusercontent.com)... 185.199.108.133, 185.199.109.133, 185.199.110.133, ...\n",
            "Connecting to raw.githubusercontent.com (raw.githubusercontent.com)|185.199.108.133|:443... connected.\n",
            "HTTP request sent, awaiting response... 200 OK\n",
            "Length: 92920 (91K) [application/octet-stream]\n",
            "Saving to: ‘Dosis-Bold.ttf’\n",
            "\n",
            "Dosis-Bold.ttf      100%[===================>]  90.74K  --.-KB/s    in 0.005s  \n",
            "\n",
            "2021-09-06 12:17:25 (16.2 MB/s) - ‘Dosis-Bold.ttf’ saved [92920/92920]\n",
            "\n"
          ]
        }
      ]
    },
    {
      "cell_type": "code",
      "metadata": {
        "id": "84zXhvmAchrx"
      },
      "source": [
        "import os\n",
        "import numpy as np\n",
        "import re\n",
        "from PIL import Image, ImageDraw, ImageFont, ImageFilter, ImageOps\n",
        "import requests\n",
        "from io import BytesIO\n",
        "from google.colab import files\n",
        "\n",
        "colors={0:(255, 255, 255, 255),\n",
        "    1:(0, 0, 0, 255),\n",
        "    2:(255, 0, 0, 255),\n",
        "    3:(255, 0, 221, 255),  #pink\n",
        "    4:(0,0,255,255), #blue\n",
        "    5:(0,255,0.69,255),\n",
        "    6:(128,0,128,255)} #purple\n",
        "\n",
        "text=\"\"\"after i escaped the\n",
        "dark and dangerous\n",
        "tunnel in the last part\n",
        "i had a breakthrough\n",
        "idea...\n",
        "i should get better\n",
        "weapons and armor\n",
        "instead of running\n",
        "away again\n",
        "after dying\n",
        "a few more times than\n",
        "i would like to admit\n",
        "i finally obtained enough\n",
        "diamonds to keep my\n",
        "armor shining brighter than\n",
        "my future for at least\n",
        "36 more years\n",
        "sadly that number decreased\n",
        "to mere seconds as i saw\n",
        "my enemies rapidly\n",
        "approaching me...\n",
        "full story coming soon\n",
        "server ip in discord\"\"\" \n",
        "\n",
        "root='./subtitles/'\n",
        "if not os.path.exists(root):\n",
        "    os.makedirs(root)\n",
        "texts = text.split('\\n')\n",
        "\n",
        "imw,imh=1920,250\n",
        "\n",
        "fnt = ImageFont.truetype(\"Dosis-Bold.ttf\", 115)\n",
        "\n",
        "i=0\n",
        "w_start=0\n",
        "for text in texts:\n",
        "    z = re.match(r\"[0-9]{3}\", text)\n",
        "    if z:\n",
        "        font_c = int(text[0])\n",
        "        outline_c = int(text[1])\n",
        "        shadow_c = int(text[2])\n",
        "        joined = ' '.join(text[3:].split())\n",
        "    else:\n",
        "        font_c=0\n",
        "        outline_c=1\n",
        "        shadow_c=1\n",
        "        joined= ' '.join(text.split())\n",
        "\n",
        "    w_end = w_start + len(text.split())\n",
        "    name = root+f'a_{i:04d}_{w_start:04d}_{w_end:04d}.png'\n",
        "    i+=1\n",
        "    w_start = w_end\n",
        "\n",
        "\n",
        "    im = Image.new('RGBA', (imw,imh), (0,0,0,0))\n",
        "    d = ImageDraw.Draw(im)\n",
        "    w,h=d.textsize(joined,fnt)\n",
        "    d.text(((imw-w)//2,(imh-h)//2), joined, font=fnt, fill=colors[shadow_c])\n",
        "    im = im.filter(ImageFilter.GaussianBlur(radius=30))\n",
        "    imnp_raw=np.asarray(im)\n",
        "    imnp=imnp_raw.copy()\n",
        "    imnp[:,:,3]=(imnp_raw[:,:,3]*(255.0/imnp_raw[:,:,3].max())).astype(np.uint8)\n",
        "\n",
        "\n",
        "    imface = Image.new('RGBA', (imw,imh), (0,0,0,0))\n",
        "    d2 = ImageDraw.Draw(imface)\n",
        "    d2.text(((imw-w)//2,(imh-h)//2), joined, font=fnt, fill=colors[font_c], stroke_width=7, stroke_fill=colors[outline_c])\n",
        "    imfacenp = np.asarray(imface)\n",
        "\n",
        "    blank = np.zeros((imh,imw,4),dtype=np.uint8)\n",
        "    compnp=np.where((imnp[:,:,3]>0)[:,:,None], imnp, blank)\n",
        "    compnp=np.where((imfacenp[:,:,3]>200)[:,:,None], imfacenp, compnp)\n",
        "\n",
        "    Image.fromarray(compnp,'RGBA').save(name)"
      ],
      "execution_count": 4,
      "outputs": []
    },
    {
      "cell_type": "code",
      "metadata": {
        "colab": {
          "base_uri": "https://localhost:8080/",
          "height": 420
        },
        "id": "Kd3Nf9d8ctCz",
        "outputId": "c912fd1f-967b-4edf-8eb6-47a03d4ffdb4"
      },
      "source": [
        "%cd /content/subtitles\n",
        "!zip -r subtitles.zip *\n",
        "files.download('/content/subtitles/subtitles.zip')\n"
      ],
      "execution_count": 5,
      "outputs": [
        {
          "output_type": "stream",
          "name": "stdout",
          "text": [
            "/content/subtitles\n",
            "  adding: a_0000_0000_0004.png (deflated 5%)\n",
            "  adding: a_0001_0004_0007.png (deflated 5%)\n",
            "  adding: a_0002_0007_0012.png (deflated 4%)\n",
            "  adding: a_0003_0012_0016.png (deflated 4%)\n",
            "  adding: a_0004_0016_0017.png (deflated 9%)\n",
            "  adding: a_0005_0017_0021.png (deflated 5%)\n",
            "  adding: a_0006_0021_0024.png (deflated 6%)\n",
            "  adding: a_0007_0024_0027.png (deflated 5%)\n",
            "  adding: a_0008_0027_0029.png (deflated 6%)\n",
            "  adding: a_0009_0029_0031.png (deflated 6%)\n",
            "  adding: a_0010_0031_0036.png (deflated 4%)\n",
            "  adding: a_0011_0036_0041.png (deflated 5%)\n",
            "  adding: a_0012_0041_0045.png (deflated 3%)\n",
            "  adding: a_0013_0045_0049.png (deflated 4%)\n",
            "  adding: a_0014_0049_0053.png (deflated 3%)\n",
            "  adding: a_0015_0053_0058.png (deflated 4%)\n",
            "  adding: a_0016_0058_0061.png (deflated 6%)\n",
            "  adding: a_0017_0061_0065.png (deflated 3%)\n",
            "  adding: a_0018_0065_0071.png (deflated 4%)\n",
            "  adding: a_0019_0071_0074.png (deflated 5%)\n",
            "  adding: a_0020_0074_0076.png (deflated 6%)\n",
            "  adding: a_0021_0076_0080.png (deflated 4%)\n",
            "  adding: a_0022_0080_0084.png (deflated 5%)\n"
          ]
        },
        {
          "output_type": "display_data",
          "data": {
            "application/javascript": [
              "\n",
              "    async function download(id, filename, size) {\n",
              "      if (!google.colab.kernel.accessAllowed) {\n",
              "        return;\n",
              "      }\n",
              "      const div = document.createElement('div');\n",
              "      const label = document.createElement('label');\n",
              "      label.textContent = `Downloading \"${filename}\": `;\n",
              "      div.appendChild(label);\n",
              "      const progress = document.createElement('progress');\n",
              "      progress.max = size;\n",
              "      div.appendChild(progress);\n",
              "      document.body.appendChild(div);\n",
              "\n",
              "      const buffers = [];\n",
              "      let downloaded = 0;\n",
              "\n",
              "      const channel = await google.colab.kernel.comms.open(id);\n",
              "      // Send a message to notify the kernel that we're ready.\n",
              "      channel.send({})\n",
              "\n",
              "      for await (const message of channel.messages) {\n",
              "        // Send a message to notify the kernel that we're ready.\n",
              "        channel.send({})\n",
              "        if (message.buffers) {\n",
              "          for (const buffer of message.buffers) {\n",
              "            buffers.push(buffer);\n",
              "            downloaded += buffer.byteLength;\n",
              "            progress.value = downloaded;\n",
              "          }\n",
              "        }\n",
              "      }\n",
              "      const blob = new Blob(buffers, {type: 'application/binary'});\n",
              "      const a = document.createElement('a');\n",
              "      a.href = window.URL.createObjectURL(blob);\n",
              "      a.download = filename;\n",
              "      div.appendChild(a);\n",
              "      a.click();\n",
              "      div.remove();\n",
              "    }\n",
              "  "
            ],
            "text/plain": [
              "<IPython.core.display.Javascript object>"
            ]
          },
          "metadata": {}
        },
        {
          "output_type": "display_data",
          "data": {
            "application/javascript": [
              "download(\"download_fc4b609f-be47-41e1-947a-aebf397b20dd\", \"subtitles.zip\", 1132036)"
            ],
            "text/plain": [
              "<IPython.core.display.Javascript object>"
            ]
          },
          "metadata": {}
        }
      ]
    },
    {
      "cell_type": "code",
      "metadata": {
        "id": "2iA4vSbFqycw"
      },
      "source": [
        ""
      ],
      "execution_count": null,
      "outputs": []
    }
  ]
}