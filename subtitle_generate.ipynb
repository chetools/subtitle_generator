{
  "nbformat": 4,
  "nbformat_minor": 0,
  "metadata": {
    "colab": {
      "name": "subtitle_generate.ipynb",
      "provenance": [],
      "collapsed_sections": [],
      "authorship_tag": "ABX9TyMRgFaMpWKqtzD3AyCDDrCQ",
      "include_colab_link": true
    },
    "kernelspec": {
      "name": "python3",
      "display_name": "Python 3"
    },
    "language_info": {
      "name": "python"
    }
  },
  "cells": [
    {
      "cell_type": "markdown",
      "metadata": {
        "id": "view-in-github",
        "colab_type": "text"
      },
      "source": [
        "<a href=\"https://colab.research.google.com/github/profteachkids/subtitle_generator/blob/main/subtitle_generate.ipynb\" target=\"_parent\"><img src=\"https://colab.research.google.com/assets/colab-badge.svg\" alt=\"Open In Colab\"/></a>"
      ]
    },
    {
      "cell_type": "code",
      "metadata": {
        "id": "84zXhvmAchrx"
      },
      "source": [
        "import os\n",
        "import numpy as np\n",
        "import re\n",
        "from PIL import Image, ImageDraw, ImageFont, ImageFilter, ImageOps\n",
        "import requests\n",
        "from io import BytesIO\n",
        "from google.colab import files\n",
        "\n",
        "colors={0:(255, 255, 255, 255),\n",
        "    1:(0, 0, 0, 255),\n",
        "    2:(255, 0, 0, 255),\n",
        "    3:(255, 0, 221, 255),  #pink\n",
        "    4:(0,0,255,255), #blue\n",
        "    5:(0,255,0.69,255),\n",
        "    6:(128,0,128,255)} #purple\n",
        "\n",
        "text=\"\"\"after the questionable\n",
        "016events of the last part\n",
        "014where Spadeless lost\n",
        "his pets\"\"\" \n",
        "\n",
        "root='./subtitles/'\n",
        "if not os.path.exists(root):\n",
        "    os.makedirs(root)\n",
        "texts = text.split('\\n')\n",
        "\n",
        "imw,imh=1920,250\n",
        "\n",
        "req = requests.get(\"https://github.com/google/fonts/blob/main/ofl/dosis/static/Dosis-Bold.ttf?raw=true\")\n",
        "fnt = ImageFont.truetype(BytesIO(req.content), 115)\n",
        "\n",
        "i=0\n",
        "w_start=0\n",
        "for text in texts:\n",
        "    z = re.match(r\"[0-9]{3}\", text)\n",
        "    if z:\n",
        "        font_c = int(text[0])\n",
        "        outline_c = int(text[1])\n",
        "        shadow_c = int(text[2])\n",
        "        joined = ' '.join(text[3:].split())\n",
        "    else:\n",
        "        font_c=0\n",
        "        outline_c=1\n",
        "        shadow_c=1\n",
        "        joined= ' '.join(text.split())\n",
        "\n",
        "    w_end = w_start + len(text.split())\n",
        "    name = root+f'a_{i:04d}_{w_start:04d}_{w_end:04d}.png'\n",
        "    i+=1\n",
        "    w_start = w_end\n",
        "\n",
        "\n",
        "    im = Image.new('RGBA', (imw,imh), (0,0,0,0))\n",
        "    d = ImageDraw.Draw(im)\n",
        "    w,h=d.textsize(joined,fnt)\n",
        "    d.text(((imw-w)//2,(imh-h)//2), joined, font=fnt, fill=colors[shadow_c])\n",
        "    im = im.filter(ImageFilter.GaussianBlur(radius=30))\n",
        "    imnp_raw=np.asarray(im)\n",
        "    imnp=imnp_raw.copy()\n",
        "    imnp[:,:,3]=(imnp_raw[:,:,3]*(255.0/imnp_raw[:,:,3].max())).astype(np.uint8)\n",
        "\n",
        "\n",
        "    imface = Image.new('RGBA', (imw,imh), (0,0,0,0))\n",
        "    d2 = ImageDraw.Draw(imface)\n",
        "    d2.text(((imw-w)//2,(imh-h)//2), joined, font=fnt, fill=colors[font_c], stroke_width=7, stroke_fill=colors[outline_c])\n",
        "    imfacenp = np.asarray(imface)\n",
        "\n",
        "    blank = np.zeros((imh,imw,4),dtype=np.uint8)\n",
        "    compnp=np.where((imnp[:,:,3]>0)[:,:,None], imnp, blank)\n",
        "    compnp=np.where((imfacenp[:,:,3]>200)[:,:,None], imfacenp, compnp)\n",
        "\n",
        "    Image.fromarray(compnp,'RGBA').save(name)"
      ],
      "execution_count": 1,
      "outputs": []
    },
    {
      "cell_type": "code",
      "metadata": {
        "colab": {
          "base_uri": "https://localhost:8080/",
          "height": 101
        },
        "id": "Kd3Nf9d8ctCz",
        "outputId": "991cf661-a5c0-4a71-d06f-be1c0e5f9edb"
      },
      "source": [
        "%cd /content/subtitles\n",
        "!zip -r subtitles.zip *\n",
        "files.download('/content/subtitles/subtitles.zip')\n"
      ],
      "execution_count": 2,
      "outputs": [
        {
          "output_type": "stream",
          "text": [
            "/content/subtitles\n",
            "  adding: a_0000_0000_0003.png (deflated 3%)\n",
            "  adding: a_0001_0003_0008.png (deflated 3%)\n",
            "  adding: a_0002_0008_0011.png (deflated 4%)\n",
            "  adding: a_0003_0011_0013.png (deflated 7%)\n"
          ],
          "name": "stdout"
        },
        {
          "output_type": "display_data",
          "data": {
            "application/javascript": [
              "\n",
              "    async function download(id, filename, size) {\n",
              "      if (!google.colab.kernel.accessAllowed) {\n",
              "        return;\n",
              "      }\n",
              "      const div = document.createElement('div');\n",
              "      const label = document.createElement('label');\n",
              "      label.textContent = `Downloading \"${filename}\": `;\n",
              "      div.appendChild(label);\n",
              "      const progress = document.createElement('progress');\n",
              "      progress.max = size;\n",
              "      div.appendChild(progress);\n",
              "      document.body.appendChild(div);\n",
              "\n",
              "      const buffers = [];\n",
              "      let downloaded = 0;\n",
              "\n",
              "      const channel = await google.colab.kernel.comms.open(id);\n",
              "      // Send a message to notify the kernel that we're ready.\n",
              "      channel.send({})\n",
              "\n",
              "      for await (const message of channel.messages) {\n",
              "        // Send a message to notify the kernel that we're ready.\n",
              "        channel.send({})\n",
              "        if (message.buffers) {\n",
              "          for (const buffer of message.buffers) {\n",
              "            buffers.push(buffer);\n",
              "            downloaded += buffer.byteLength;\n",
              "            progress.value = downloaded;\n",
              "          }\n",
              "        }\n",
              "      }\n",
              "      const blob = new Blob(buffers, {type: 'application/binary'});\n",
              "      const a = document.createElement('a');\n",
              "      a.href = window.URL.createObjectURL(blob);\n",
              "      a.download = filename;\n",
              "      div.appendChild(a);\n",
              "      a.click();\n",
              "      div.remove();\n",
              "    }\n",
              "  "
            ],
            "text/plain": [
              "<IPython.core.display.Javascript object>"
            ]
          },
          "metadata": {
            "tags": []
          }
        },
        {
          "output_type": "display_data",
          "data": {
            "application/javascript": [
              "download(\"download_2f57c9c3-b66a-469b-9830-eb8fb642df9f\", \"subtitles.zip\", 203860)"
            ],
            "text/plain": [
              "<IPython.core.display.Javascript object>"
            ]
          },
          "metadata": {
            "tags": []
          }
        }
      ]
    },
    {
      "cell_type": "code",
      "metadata": {
        "id": "2iA4vSbFqycw"
      },
      "source": [
        ""
      ],
      "execution_count": 2,
      "outputs": []
    }
  ]
}