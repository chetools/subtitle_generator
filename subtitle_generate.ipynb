{
  "nbformat": 4,
  "nbformat_minor": 0,
  "metadata": {
    "colab": {
      "name": "subtitle_generate.ipynb",
      "provenance": [],
      "collapsed_sections": [],
      "authorship_tag": "ABX9TyO3D3TmAq2bLvLtMs41xp61",
      "include_colab_link": true
    },
    "kernelspec": {
      "name": "python3",
      "display_name": "Python 3"
    },
    "language_info": {
      "name": "python"
    }
  },
  "cells": [
    {
      "cell_type": "markdown",
      "metadata": {
        "id": "view-in-github",
        "colab_type": "text"
      },
      "source": [
        "<a href=\"https://colab.research.google.com/github/profteachkids/subtitle_generator/blob/main/subtitle_generate.ipynb\" target=\"_parent\"><img src=\"https://colab.research.google.com/assets/colab-badge.svg\" alt=\"Open In Colab\"/></a>"
      ]
    },
    {
      "cell_type": "code",
      "metadata": {
        "colab": {
          "base_uri": "https://localhost:8080/"
        },
        "id": "84zXhvmAchrx",
        "outputId": "7f01832e-4ca0-42ea-d931-67a7455bb14c"
      },
      "source": [
        "import os\n",
        "import numpy as np\n",
        "import re\n",
        "from PIL import Image, ImageDraw, ImageFont, ImageFilter, ImageOps\n",
        "import requests\n",
        "from io import BytesIO\n",
        "\n",
        "colors={0:(255, 255, 255, 255),\n",
        "    1:(0, 0, 0, 255),\n",
        "    2:(255, 0, 0, 255),\n",
        "    3:(255, 0, 221, 255),  #pink\n",
        "    4:(0,0,255,255), #blue\n",
        "    5:(0,255,0.69,255),\n",
        "    6:(128,0,128,255)} #purple\n",
        "\n",
        "text=\"\"\"after the questionable\n",
        "016events of the last part\n",
        "014where Spadeless lost\n",
        "his pets\"\"\" \n",
        "\n",
        "root='./subtitles/'\n",
        "if not os.path.exists(root):\n",
        "    os.makedirs(root)\n",
        "texts = text.split('\\n')\n",
        "\n",
        "imw,imh=1920,250\n",
        "\n",
        "req = requests.get(\"https://github.com/google/fonts/blob/main/ofl/dosis/static/Dosis-Bold.ttf?raw=true\")\n",
        "fnt = ImageFont.truetype(BytesIO(req.content), 115)\n",
        "\n",
        "i=0\n",
        "w_start=0\n",
        "for text in texts:\n",
        "    z = re.match(r\"[0-9]{3}\", text)\n",
        "    if z:\n",
        "        font_c = int(text[0])\n",
        "        outline_c = int(text[1])\n",
        "        shadow_c = int(text[2])\n",
        "        joined = ' '.join(text[3:].split())\n",
        "    else:\n",
        "        font_c=0\n",
        "        outline_c=1\n",
        "        shadow_c=1\n",
        "        joined= ' '.join(text.split())\n",
        "\n",
        "    w_end = w_start + len(text.split())\n",
        "    name = root+f'a_{i:04d}_{w_start:04d}_{w_end:04d}.png'\n",
        "    i+=1\n",
        "    w_start = w_end\n",
        "\n",
        "\n",
        "    im = Image.new('RGBA', (imw,imh), (0,0,0,0))\n",
        "    d = ImageDraw.Draw(im)\n",
        "    w,h=d.textsize(joined,fnt)\n",
        "    d.text(((imw-w)//2,(imh-h)//2), joined, font=fnt, fill=colors[shadow_c])\n",
        "    im = im.filter(ImageFilter.GaussianBlur(radius=30))\n",
        "    imnp_raw=np.asarray(im)\n",
        "    imnp=imnp_raw.copy()\n",
        "    imnp[:,:,3]=(imnp_raw[:,:,3]*(255.0/imnp_raw[:,:,3].max())).astype(np.uint8)\n",
        "\n",
        "\n",
        "    imface = Image.new('RGBA', (imw,imh), (0,0,0,0))\n",
        "    d2 = ImageDraw.Draw(imface)\n",
        "    d2.text(((imw-w)//2,(imh-h)//2), joined, font=fnt, fill=colors[font_c], stroke_width=7, stroke_fill=colors[outline_c])\n",
        "    imfacenp = np.asarray(imface)\n",
        "\n",
        "    blank = np.zeros((imh,imw,4),dtype=np.uint8)\n",
        "    compnp=np.where((imnp[:,:,3]>0)[:,:,None], imnp, blank)\n",
        "    compnp=np.where((imfacenp[:,:,3]>200)[:,:,None], imfacenp, compnp)\n",
        "\n",
        "    Image.fromarray(compnp,'RGBA').save(name)"
      ],
      "execution_count": 1,
      "outputs": [
        {
          "output_type": "stream",
          "text": [
            "0 1 1 after the questionable\n",
            "(0, 0, 0, 255)\n",
            "0 1 6 events of the last part\n",
            "(128, 0, 128, 255)\n",
            "0 1 4 where Spadeless lost\n",
            "(0, 0, 255, 255)\n",
            "0 1 1 his pets\n",
            "(0, 0, 0, 255)\n"
          ],
          "name": "stdout"
        }
      ]
    },
    {
      "cell_type": "code",
      "metadata": {
        "colab": {
          "base_uri": "https://localhost:8080/"
        },
        "id": "Kd3Nf9d8ctCz",
        "outputId": "f8df6c1a-db60-4d32-b0f7-c5eb21595ca9"
      },
      "source": [
        "%cd /content/subtitles\n",
        "!zip -r subtitles.zip *\n",
        "%cd /content"
      ],
      "execution_count": 2,
      "outputs": [
        {
          "output_type": "stream",
          "text": [
            "/content/subtitles\n",
            "  adding: a_0000_0000_0003.png (deflated 3%)\n",
            "  adding: a_0001_0003_0008.png (deflated 3%)\n",
            "  adding: a_0002_0008_0011.png (deflated 4%)\n",
            "  adding: a_0003_0011_0013.png (deflated 7%)\n",
            "/content\n"
          ],
          "name": "stdout"
        }
      ]
    },
    {
      "cell_type": "code",
      "metadata": {
        "id": "QSWiceGmjW1L"
      },
      "source": [
        "!cd ./subtitles"
      ],
      "execution_count": 18,
      "outputs": []
    },
    {
      "cell_type": "code",
      "metadata": {
        "colab": {
          "base_uri": "https://localhost:8080/"
        },
        "id": "ddOx6a6WkYZ2",
        "outputId": "2fc0bf11-df56-4ed6-e5be-6b498d3d1fe0"
      },
      "source": [
        "!ls"
      ],
      "execution_count": 19,
      "outputs": [
        {
          "output_type": "stream",
          "text": [
            "sample_data  subtitles\tsubtitles.zip\n"
          ],
          "name": "stdout"
        }
      ]
    },
    {
      "cell_type": "code",
      "metadata": {
        "id": "ozqDCTlXkbnO"
      },
      "source": [
        ""
      ],
      "execution_count": null,
      "outputs": []
    }
  ]
}